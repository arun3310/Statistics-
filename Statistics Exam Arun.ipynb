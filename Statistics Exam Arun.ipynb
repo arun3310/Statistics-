{
 "cells": [
  {
   "cell_type": "markdown",
   "id": "9a597cfe",
   "metadata": {},
   "source": [
    "#### From the pack of 52 cards, three cards are drawn randomly without replacement then what is the probability that one card is  diamond, one card is a heart and one is spade?"
   ]
  },
  {
   "cell_type": "code",
   "execution_count": 52,
   "id": "f0b4701a",
   "metadata": {},
   "outputs": [],
   "source": [
    "from scipy import stats\n",
    "import pandas as pd\n",
    "import numpy as np\n",
    "import math"
   ]
  },
  {
   "cell_type": "code",
   "execution_count": 53,
   "id": "cceba22e",
   "metadata": {},
   "outputs": [
    {
     "data": {
      "text/plain": [
       "0.0017647058823529412"
      ]
     },
     "execution_count": 53,
     "metadata": {},
     "output_type": "execute_result"
    }
   ],
   "source": [
    "val = math.comb(52,3)\n",
    "p = 13*3\n",
    "prob = p/val\n",
    "prob"
   ]
  },
  {
   "cell_type": "markdown",
   "id": "e49405ca",
   "metadata": {},
   "source": [
    "### The information was gathered by a survey done by a production\n",
    "##### company: 42 % of the respondents said that they like action movies,\n",
    "54 % like comedy movies, 36 % like drama movies, and 12 % like\n",
    "horror movies. If a person is selected at random, find the\n",
    "probability that his or her favourite movie type is either action or\n",
    "drama.\n"
   ]
  },
  {
   "cell_type": "code",
   "execution_count": 54,
   "id": "f12b531f",
   "metadata": {},
   "outputs": [
    {
     "name": "stdout",
     "output_type": "stream",
     "text": [
      "probility of select at random her favourite movie type is either action or drama is: 78.0 %\n"
     ]
    }
   ],
   "source": [
    "action_mov = 0.42\n",
    "comedy_mov = 0.54\n",
    "drama_mov = 0.36\n",
    "horror_mov = 0.12\n",
    "\n",
    "prob = (action_mov + drama_mov) * 100\n",
    "print('probility of select at random her favourite movie type is either action or drama is:',prob,\"%\")"
   ]
  },
  {
   "cell_type": "markdown",
   "id": "de1abee5",
   "metadata": {},
   "source": [
    "### An MNC company receives 450 applications from applicants in onehour. Find the probability of\n",
    "a. Receiving 10 applications in 1 minute.\n",
    "\n",
    "b. Receiving at least 17 applications in 2 minutes"
   ]
  },
  {
   "cell_type": "code",
   "execution_count": 55,
   "id": "8e581dc7",
   "metadata": {},
   "outputs": [
    {
     "name": "stdout",
     "output_type": "stream",
     "text": [
      "probility of 10 application  8.583037040867346\n",
      "Receiving at least 17 applications in 2 minutes 33.58767993934556\n"
     ]
    }
   ],
   "source": [
    "mean = 450/60 \n",
    "\n",
    "\n",
    "k1 = 10\n",
    "prob_a = stats.poisson.pmf(k1,mean) * 100\n",
    "print(\"probility of 10 application \",prob_a)\n",
    " \n",
    "k2 = 17\n",
    "prob_b = (1-stats.poisson.cdf(k2-1, mean*2))*100\n",
    "print(\"Receiving at least 17 applications in 2 minutes\",prob_b)"
   ]
  },
  {
   "cell_type": "markdown",
   "id": "bf9e2cc5",
   "metadata": {},
   "source": [
    "##### The government of state union has declared a free medical insurance for below poverty line population by using following assumptions:\n",
    "a. In every year, there can be at most one patient who needs\n",
    "medical insurance in a family.\n",
    "b. Every year, the probability of a medical emergency is 0.05.**\n",
    "c. The number of patients every year is independent.\n",
    "(Using the assumptions, calculate the probability that there are\n",
    "fewer than 3 patients in a 10 years period in one family**)\n"
   ]
  },
  {
   "cell_type": "code",
   "execution_count": 56,
   "id": "f3f0f415",
   "metadata": {},
   "outputs": [
    {
     "data": {
      "text/plain": [
       "98.85"
      ]
     },
     "execution_count": 56,
     "metadata": {},
     "output_type": "execute_result"
    }
   ],
   "source": [
    "p = 0.05\n",
    "k = 3\n",
    "n = 10\n",
    "prob = stats.binom.cdf(2,10,0.05)*100\n",
    "prob = round(prob,2)\n",
    "prob"
   ]
  },
  {
   "cell_type": "markdown",
   "id": "f8ec1709",
   "metadata": {},
   "source": [
    "## A bag A contains 3 red and 5 black balls and bag B contains 4 whiteand 7 black balls. \n",
    "A bag is selected randomly and a ball is drawn\n",
    "from it. A drawn ball is observed to be black. Find the probability\n",
    "that bag ‘B’ was selected.\n"
   ]
  },
  {
   "cell_type": "code",
   "execution_count": 58,
   "id": "f9dbfea1",
   "metadata": {},
   "outputs": [
    {
     "name": "stdout",
     "output_type": "stream",
     "text": [
      "Probability that bag 'B' was selected given that a black ball was drawn: 0.505\n"
     ]
    }
   ],
   "source": [
    "\n",
    "P_A = 1/2\n",
    "P_B = 1/2\n",
    "P_Black_given_A = 5/8\n",
    "P_Black_given_B = 7/11\n",
    "\n",
    "\n",
    "P_Black = (P_Black_given_A * P_A) + (P_Black_given_B * P_B)\n",
    "\n",
    "\n",
    "P_B_given_Black = (P_Black_given_B * P_B) / P_Black\n",
    "\n",
    "\n",
    "print(f\"Probability that bag 'B' was selected given that a black ball was drawn: {P_B_given_Black:.3f}\")\n"
   ]
  },
  {
   "cell_type": "markdown",
   "id": "34c46719",
   "metadata": {},
   "source": [
    "## Identify the outliers from the data and if any present remove it\n"
   ]
  },
  {
   "cell_type": "code",
   "execution_count": 59,
   "id": "bd3ff41b",
   "metadata": {},
   "outputs": [
    {
     "name": "stdout",
     "output_type": "stream",
     "text": [
      "Outliers: [20, 55, 26, 64, 88, 250, 22, 33, 43, 355, 300]\n",
      "Filtered Data: [152, 153, 154, 150, 151, 155, 156, 157, 158, 159, 158, 159, 160, 161, 162, 163, 164, 165, 166, 167, 168, 169, 170, 171, 172, 174, 175, 176, 177, 178]\n"
     ]
    }
   ],
   "source": [
    "Data =[152, 153, 154,20,55,26,64,88,150, 151, 155,156,157,158,159, 250, 158, 22,33,43,159, 160, 161, 162, 163,164,165, 166, 167, 168, 169, 170, 171, 172, 355, 174, 175, 176,\n",
    "177,178, 300]\n",
    "Q1 = np.percentile(Data, 25)\n",
    "Q3 = np.percentile(Data, 75)\n",
    "IQR = Q3 - Q1\n",
    "\n",
    "\n",
    "Lower_Bound = Q1 - 1.5 * IQR\n",
    "Upper_Bound = Q3 + 1.5 * IQR\n",
    "\n",
    "outliers = [x for x in Data if x < Lower_Bound or x > Upper_Bound]\n",
    "filtered_data = [x for x in Data if x >= Lower_Bound and x <= Upper_Bound]\n",
    "\n",
    "print(\"Outliers:\", outliers)\n",
    "print(\"Filtered Data:\", filtered_data)\n"
   ]
  },
  {
   "cell_type": "markdown",
   "id": "19826884",
   "metadata": {},
   "source": [
    "## a) Calculate the mean and standard deviation of these observations\n",
    "and check if calculated Z-statistics can be applied or not.\n",
    "b) Obtain the descriptive statistics of the data.\n"
   ]
  },
  {
   "cell_type": "code",
   "execution_count": 60,
   "id": "2341a6c6",
   "metadata": {},
   "outputs": [
    {
     "name": "stdout",
     "output_type": "stream",
     "text": [
      "Z-statistics can be applied. sample size 41\n"
     ]
    },
    {
     "data": {
      "text/plain": [
       "count     41.000000\n",
       "mean     150.146341\n",
       "std       66.316876\n",
       "min       20.000000\n",
       "25%      152.000000\n",
       "50%      160.000000\n",
       "75%      170.000000\n",
       "max      355.000000\n",
       "dtype: float64"
      ]
     },
     "execution_count": 60,
     "metadata": {},
     "output_type": "execute_result"
    }
   ],
   "source": [
    "data = pd.Series([152, 153, 154,20,55,26,64,88,150, 151, 155, 156,157,158,159, 250, 158, 22,33,43,159, 160, 161, 162, 163, 164, 165, 166, 167, 168, 169, 170, 171, 172, 355, 174, 175, 176, 177,178, 300])\n",
    "\n",
    "mean = np.mean(data)\n",
    "std = np.std(data)\n",
    "n = len(data)\n",
    "z_stats = n>30\n",
    "if z_stats:\n",
    "    print(\"Z-statistics can be applied.\", 'sample size',n)\n",
    "else:\n",
    "    print(\"Z-statistics may not be appropriate due to the sample size.\")\n",
    "\n",
    "\n",
    "data.describe()\n"
   ]
  },
  {
   "cell_type": "markdown",
   "id": "d0bbe2a5",
   "metadata": {},
   "source": [
    "## In the population, the mean weight is 82. A team of dietitians wants\n",
    "to test a new protein supplier to see if it has either a positive or\n",
    "negative effect on diet, or no effect at all. A sample of 15\n",
    "participants who have taken the protein supplier. Did the protein\n",
    "supplier affect diet? Where alpha=0.05"
   ]
  },
  {
   "cell_type": "code",
   "execution_count": 61,
   "id": "dc4c10e1",
   "metadata": {},
   "outputs": [
    {
     "name": "stdout",
     "output_type": "stream",
     "text": [
      "2.0595861870398595 0.05853875206355417\n",
      "accept null hypothesis\n"
     ]
    }
   ],
   "source": [
    "before = [90,82,77,81,98,100,111,84,85,81,81,73,81,89,83]\n",
    "after = [85,88,86,80,86,99,98,79,79,78,76,78,78,74,78]\n",
    "mean = 82\n",
    "alpha = 0.05\n",
    "n = 15\n",
    "t_statistic, p_value = stats.ttest_rel(before, after)\n",
    "print(t_statistic, p_value)\n",
    "if p_value < alpha:\n",
    "    print('Reject null hypothesis')\n",
    "else:\n",
    "    print('accept null hypothesis')"
   ]
  },
  {
   "cell_type": "markdown",
   "id": "2cba2d82",
   "metadata": {},
   "source": [
    "## Annual project of university done by three groups of students withequal sample sizes. Each group was given a different task. After the\n",
    "final presentation students get the marks. The scores are given\n",
    "below. Find out whether groups performed the same or not."
   ]
  },
  {
   "cell_type": "code",
   "execution_count": 62,
   "id": "b4a44abe",
   "metadata": {},
   "outputs": [
    {
     "name": "stdout",
     "output_type": "stream",
     "text": [
      "1.5526196072484646 0.24386666453717953\n",
      "accept the null hypothesis\n"
     ]
    }
   ],
   "source": [
    "group1_marks = [80,30,40,70,88,85]\n",
    "group2_marks = [96,77,65,88,74,83]\n",
    "group3_marks = [90,87,75,58,84,90]\n",
    "alpha = 0.05\n",
    "val, p_val= stats.f_oneway(group1_marks,group2_marks,group3_marks)\n",
    "print(val, p_val)\n",
    "if p_val < alpha:\n",
    "    print('Reject the null hypothesis')\n",
    "else:\n",
    "    print('accept the null hypothesis')"
   ]
  },
  {
   "cell_type": "markdown",
   "id": "63acc5ec",
   "metadata": {},
   "source": [
    "# The number of customers that arrive on different days in a week at\n",
    "the Hotel Taj is given below. Test the claim that the different days of"
   ]
  },
  {
   "cell_type": "code",
   "execution_count": null,
   "id": "93a155f4",
   "metadata": {},
   "outputs": [],
   "source": []
  },
  {
   "cell_type": "code",
   "execution_count": null,
   "id": "d1fc13e1",
   "metadata": {},
   "outputs": [],
   "source": []
  }
 ],
 "metadata": {
  "kernelspec": {
   "display_name": "Python 3 (ipykernel)",
   "language": "python",
   "name": "python3"
  },
  "language_info": {
   "codemirror_mode": {
    "name": "ipython",
    "version": 3
   },
   "file_extension": ".py",
   "mimetype": "text/x-python",
   "name": "python",
   "nbconvert_exporter": "python",
   "pygments_lexer": "ipython3",
   "version": "3.11.4"
  }
 },
 "nbformat": 4,
 "nbformat_minor": 5
}
